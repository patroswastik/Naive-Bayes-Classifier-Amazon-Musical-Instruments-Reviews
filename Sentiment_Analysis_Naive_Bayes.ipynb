{
 "cells": [
  {
   "cell_type": "code",
   "execution_count": 189,
   "id": "a7754b85",
   "metadata": {},
   "outputs": [],
   "source": [
    "import pandas as pd\n",
    "import numpy as np\n",
    "import matplotlib.pyplot as plt\n",
    "import seaborn as sns"
   ]
  },
  {
   "cell_type": "code",
   "execution_count": 210,
   "id": "bd55060d",
   "metadata": {},
   "outputs": [],
   "source": [
    "df_json = pd.read_json(\"Musical_Instruments_5.json\")\n",
    "df_csv = pd.read_csv(\"Musical_instruments_reviews.csv\")"
   ]
  },
  {
   "cell_type": "code",
   "execution_count": 211,
   "id": "9d3c9edc",
   "metadata": {},
   "outputs": [
    {
     "data": {
      "text/plain": [
       "Index(['reviewerID', 'asin', 'reviewerName', 'helpful', 'reviewText',\n",
       "       'overall', 'summary', 'unixReviewTime', 'reviewTime'],\n",
       "      dtype='object')"
      ]
     },
     "execution_count": 211,
     "metadata": {},
     "output_type": "execute_result"
    }
   ],
   "source": [
    "df_json.columns"
   ]
  },
  {
   "cell_type": "code",
   "execution_count": 212,
   "id": "d6d7cca6",
   "metadata": {},
   "outputs": [
    {
     "data": {
      "text/html": [
       "<div>\n",
       "<style scoped>\n",
       "    .dataframe tbody tr th:only-of-type {\n",
       "        vertical-align: middle;\n",
       "    }\n",
       "\n",
       "    .dataframe tbody tr th {\n",
       "        vertical-align: top;\n",
       "    }\n",
       "\n",
       "    .dataframe thead th {\n",
       "        text-align: right;\n",
       "    }\n",
       "</style>\n",
       "<table border=\"1\" class=\"dataframe\">\n",
       "  <thead>\n",
       "    <tr style=\"text-align: right;\">\n",
       "      <th></th>\n",
       "      <th>overall</th>\n",
       "      <th>unixReviewTime</th>\n",
       "    </tr>\n",
       "  </thead>\n",
       "  <tbody>\n",
       "    <tr>\n",
       "      <th>count</th>\n",
       "      <td>10261.000000</td>\n",
       "      <td>1.026100e+04</td>\n",
       "    </tr>\n",
       "    <tr>\n",
       "      <th>mean</th>\n",
       "      <td>4.488744</td>\n",
       "      <td>1.360606e+09</td>\n",
       "    </tr>\n",
       "    <tr>\n",
       "      <th>std</th>\n",
       "      <td>0.894642</td>\n",
       "      <td>3.779735e+07</td>\n",
       "    </tr>\n",
       "    <tr>\n",
       "      <th>min</th>\n",
       "      <td>1.000000</td>\n",
       "      <td>1.095466e+09</td>\n",
       "    </tr>\n",
       "    <tr>\n",
       "      <th>25%</th>\n",
       "      <td>4.000000</td>\n",
       "      <td>1.343434e+09</td>\n",
       "    </tr>\n",
       "    <tr>\n",
       "      <th>50%</th>\n",
       "      <td>5.000000</td>\n",
       "      <td>1.368490e+09</td>\n",
       "    </tr>\n",
       "    <tr>\n",
       "      <th>75%</th>\n",
       "      <td>5.000000</td>\n",
       "      <td>1.388966e+09</td>\n",
       "    </tr>\n",
       "    <tr>\n",
       "      <th>max</th>\n",
       "      <td>5.000000</td>\n",
       "      <td>1.405987e+09</td>\n",
       "    </tr>\n",
       "  </tbody>\n",
       "</table>\n",
       "</div>"
      ],
      "text/plain": [
       "            overall  unixReviewTime\n",
       "count  10261.000000    1.026100e+04\n",
       "mean       4.488744    1.360606e+09\n",
       "std        0.894642    3.779735e+07\n",
       "min        1.000000    1.095466e+09\n",
       "25%        4.000000    1.343434e+09\n",
       "50%        5.000000    1.368490e+09\n",
       "75%        5.000000    1.388966e+09\n",
       "max        5.000000    1.405987e+09"
      ]
     },
     "execution_count": 212,
     "metadata": {},
     "output_type": "execute_result"
    }
   ],
   "source": [
    "df_json.describe()"
   ]
  },
  {
   "cell_type": "code",
   "execution_count": 213,
   "id": "99c735fc",
   "metadata": {},
   "outputs": [
    {
     "name": "stdout",
     "output_type": "stream",
     "text": [
      "<class 'pandas.core.frame.DataFrame'>\n",
      "RangeIndex: 10261 entries, 0 to 10260\n",
      "Data columns (total 9 columns):\n",
      " #   Column          Non-Null Count  Dtype \n",
      "---  ------          --------------  ----- \n",
      " 0   reviewerID      10261 non-null  object\n",
      " 1   asin            10261 non-null  object\n",
      " 2   reviewerName    10234 non-null  object\n",
      " 3   helpful         10261 non-null  object\n",
      " 4   reviewText      10261 non-null  object\n",
      " 5   overall         10261 non-null  int64 \n",
      " 6   summary         10261 non-null  object\n",
      " 7   unixReviewTime  10261 non-null  int64 \n",
      " 8   reviewTime      10261 non-null  object\n",
      "dtypes: int64(2), object(7)\n",
      "memory usage: 721.6+ KB\n"
     ]
    }
   ],
   "source": [
    "df_json.info()"
   ]
  },
  {
   "cell_type": "code",
   "execution_count": 214,
   "id": "5666af60",
   "metadata": {},
   "outputs": [
    {
     "data": {
      "text/html": [
       "<div>\n",
       "<style scoped>\n",
       "    .dataframe tbody tr th:only-of-type {\n",
       "        vertical-align: middle;\n",
       "    }\n",
       "\n",
       "    .dataframe tbody tr th {\n",
       "        vertical-align: top;\n",
       "    }\n",
       "\n",
       "    .dataframe thead th {\n",
       "        text-align: right;\n",
       "    }\n",
       "</style>\n",
       "<table border=\"1\" class=\"dataframe\">\n",
       "  <thead>\n",
       "    <tr style=\"text-align: right;\">\n",
       "      <th></th>\n",
       "      <th>reviewerID</th>\n",
       "      <th>asin</th>\n",
       "      <th>reviewerName</th>\n",
       "      <th>helpful</th>\n",
       "      <th>reviewText</th>\n",
       "      <th>overall</th>\n",
       "      <th>summary</th>\n",
       "      <th>unixReviewTime</th>\n",
       "      <th>reviewTime</th>\n",
       "    </tr>\n",
       "  </thead>\n",
       "  <tbody>\n",
       "    <tr>\n",
       "      <th>0</th>\n",
       "      <td>A2IBPI20UZIR0U</td>\n",
       "      <td>1384719342</td>\n",
       "      <td>cassandra tu \"Yeah, well, that's just like, u...</td>\n",
       "      <td>[0, 0]</td>\n",
       "      <td>Not much to write about here, but it does exac...</td>\n",
       "      <td>5</td>\n",
       "      <td>good</td>\n",
       "      <td>1393545600</td>\n",
       "      <td>02 28, 2014</td>\n",
       "    </tr>\n",
       "    <tr>\n",
       "      <th>1</th>\n",
       "      <td>A14VAT5EAX3D9S</td>\n",
       "      <td>1384719342</td>\n",
       "      <td>Jake</td>\n",
       "      <td>[13, 14]</td>\n",
       "      <td>The product does exactly as it should and is q...</td>\n",
       "      <td>5</td>\n",
       "      <td>Jake</td>\n",
       "      <td>1363392000</td>\n",
       "      <td>03 16, 2013</td>\n",
       "    </tr>\n",
       "    <tr>\n",
       "      <th>2</th>\n",
       "      <td>A195EZSQDW3E21</td>\n",
       "      <td>1384719342</td>\n",
       "      <td>Rick Bennette \"Rick Bennette\"</td>\n",
       "      <td>[1, 1]</td>\n",
       "      <td>The primary job of this device is to block the...</td>\n",
       "      <td>5</td>\n",
       "      <td>It Does The Job Well</td>\n",
       "      <td>1377648000</td>\n",
       "      <td>08 28, 2013</td>\n",
       "    </tr>\n",
       "    <tr>\n",
       "      <th>3</th>\n",
       "      <td>A2C00NNG1ZQQG2</td>\n",
       "      <td>1384719342</td>\n",
       "      <td>RustyBill \"Sunday Rocker\"</td>\n",
       "      <td>[0, 0]</td>\n",
       "      <td>Nice windscreen protects my MXL mic and preven...</td>\n",
       "      <td>5</td>\n",
       "      <td>GOOD WINDSCREEN FOR THE MONEY</td>\n",
       "      <td>1392336000</td>\n",
       "      <td>02 14, 2014</td>\n",
       "    </tr>\n",
       "    <tr>\n",
       "      <th>4</th>\n",
       "      <td>A94QU4C90B1AX</td>\n",
       "      <td>1384719342</td>\n",
       "      <td>SEAN MASLANKA</td>\n",
       "      <td>[0, 0]</td>\n",
       "      <td>This pop filter is great. It looks and perform...</td>\n",
       "      <td>5</td>\n",
       "      <td>No more pops when I record my vocals.</td>\n",
       "      <td>1392940800</td>\n",
       "      <td>02 21, 2014</td>\n",
       "    </tr>\n",
       "  </tbody>\n",
       "</table>\n",
       "</div>"
      ],
      "text/plain": [
       "       reviewerID        asin  \\\n",
       "0  A2IBPI20UZIR0U  1384719342   \n",
       "1  A14VAT5EAX3D9S  1384719342   \n",
       "2  A195EZSQDW3E21  1384719342   \n",
       "3  A2C00NNG1ZQQG2  1384719342   \n",
       "4   A94QU4C90B1AX  1384719342   \n",
       "\n",
       "                                       reviewerName   helpful  \\\n",
       "0  cassandra tu \"Yeah, well, that's just like, u...    [0, 0]   \n",
       "1                                              Jake  [13, 14]   \n",
       "2                     Rick Bennette \"Rick Bennette\"    [1, 1]   \n",
       "3                         RustyBill \"Sunday Rocker\"    [0, 0]   \n",
       "4                                     SEAN MASLANKA    [0, 0]   \n",
       "\n",
       "                                          reviewText  overall  \\\n",
       "0  Not much to write about here, but it does exac...        5   \n",
       "1  The product does exactly as it should and is q...        5   \n",
       "2  The primary job of this device is to block the...        5   \n",
       "3  Nice windscreen protects my MXL mic and preven...        5   \n",
       "4  This pop filter is great. It looks and perform...        5   \n",
       "\n",
       "                                 summary  unixReviewTime   reviewTime  \n",
       "0                                   good      1393545600  02 28, 2014  \n",
       "1                                   Jake      1363392000  03 16, 2013  \n",
       "2                   It Does The Job Well      1377648000  08 28, 2013  \n",
       "3          GOOD WINDSCREEN FOR THE MONEY      1392336000  02 14, 2014  \n",
       "4  No more pops when I record my vocals.      1392940800  02 21, 2014  "
      ]
     },
     "execution_count": 214,
     "metadata": {},
     "output_type": "execute_result"
    }
   ],
   "source": [
    "df_json.head()"
   ]
  },
  {
   "cell_type": "code",
   "execution_count": 215,
   "id": "5991c7ce",
   "metadata": {},
   "outputs": [
    {
     "data": {
      "text/plain": [
       "reviewerID        10261\n",
       "asin              10261\n",
       "reviewerName      10234\n",
       "helpful           10261\n",
       "reviewText        10261\n",
       "overall           10261\n",
       "summary           10261\n",
       "unixReviewTime    10261\n",
       "reviewTime        10261\n",
       "dtype: int64"
      ]
     },
     "execution_count": 215,
     "metadata": {},
     "output_type": "execute_result"
    }
   ],
   "source": [
    "df_json.count()"
   ]
  },
  {
   "cell_type": "code",
   "execution_count": 216,
   "id": "fbc0dec0",
   "metadata": {},
   "outputs": [
    {
     "data": {
      "text/plain": [
       "reviewerID         0\n",
       "asin               0\n",
       "reviewerName      27\n",
       "helpful            0\n",
       "reviewText         0\n",
       "overall            0\n",
       "summary            0\n",
       "unixReviewTime     0\n",
       "reviewTime         0\n",
       "dtype: int64"
      ]
     },
     "execution_count": 216,
     "metadata": {},
     "output_type": "execute_result"
    }
   ],
   "source": [
    "df_json.isnull().sum()"
   ]
  },
  {
   "cell_type": "code",
   "execution_count": 217,
   "id": "933b61e4",
   "metadata": {},
   "outputs": [
    {
     "name": "stdout",
     "output_type": "stream",
     "text": [
      "The total number of reviews: 10261\n"
     ]
    }
   ],
   "source": [
    "print(f\"The total number of reviews: {len(df_json)}\")"
   ]
  },
  {
   "cell_type": "code",
   "execution_count": 218,
   "id": "c2a9480a",
   "metadata": {},
   "outputs": [
    {
     "data": {
      "text/plain": [
       "<bound method Series.unique of 0        5\n",
       "1        5\n",
       "2        5\n",
       "3        5\n",
       "4        5\n",
       "        ..\n",
       "10256    5\n",
       "10257    5\n",
       "10258    4\n",
       "10259    4\n",
       "10260    4\n",
       "Name: overall, Length: 10261, dtype: int64>"
      ]
     },
     "execution_count": 218,
     "metadata": {},
     "output_type": "execute_result"
    }
   ],
   "source": [
    "df_json[\"overall\"].unique"
   ]
  },
  {
   "cell_type": "code",
   "execution_count": 219,
   "id": "d0f08034",
   "metadata": {},
   "outputs": [],
   "source": [
    "overall_vc = df_json[\"overall\"].value_counts()"
   ]
  },
  {
   "cell_type": "code",
   "execution_count": 220,
   "id": "a933cebc",
   "metadata": {},
   "outputs": [
    {
     "data": {
      "text/plain": [
       "array([6938, 2084,  772,  250,  217], dtype=int64)"
      ]
     },
     "execution_count": 220,
     "metadata": {},
     "output_type": "execute_result"
    }
   ],
   "source": [
    "overall_vc.values"
   ]
  },
  {
   "cell_type": "code",
   "execution_count": 221,
   "id": "6d369ca1",
   "metadata": {},
   "outputs": [
    {
     "name": "stdout",
     "output_type": "stream",
     "text": [
      "0.9285714285714286\n"
     ]
    }
   ],
   "source": [
    "helpful = df_json[\"helpful\"][1]\n",
    "if helpful[1] != 0: print(helpful[0]/helpful[1])"
   ]
  },
  {
   "cell_type": "code",
   "execution_count": 222,
   "id": "2f5cebec",
   "metadata": {},
   "outputs": [
    {
     "data": {
      "text/plain": [
       "<BarContainer object of 5 artists>"
      ]
     },
     "execution_count": 222,
     "metadata": {},
     "output_type": "execute_result"
    },
    {
     "data": {
      "image/png": "[encoded data removed]",
      "text/plain": [
       "<Figure size 640x480 with 1 Axes>"
      ]
     },
     "metadata": {},
     "output_type": "display_data"
    }
   ],
   "source": [
    "plt.bar(overall_vc.index, overall_vc.values, alpha=0.8)"
   ]
  },
  {
   "cell_type": "code",
   "execution_count": 223,
   "id": "bf229248",
   "metadata": {},
   "outputs": [
    {
     "name": "stdout",
     "output_type": "stream",
     "text": [
      "6938\n",
      "2084\n",
      "772\n",
      "250\n",
      "217\n"
     ]
    }
   ],
   "source": [
    "for i in overall_vc.index:\n",
    "    print(overall_vc[i])"
   ]
  },
  {
   "cell_type": "code",
   "execution_count": 224,
   "id": "24eb3ce2",
   "metadata": {},
   "outputs": [
    {
     "data": {
      "text/plain": [
       "<BarContainer object of 5 artists>"
      ]
     },
     "execution_count": 224,
     "metadata": {},
     "output_type": "execute_result"
    },
    {
     "data": {
      "image/png": "[encoded data removed]",
      "text/plain": [
       "<Figure size 640x480 with 1 Axes>"
      ]
     },
     "metadata": {},
     "output_type": "display_data"
    }
   ],
   "source": [
    "plt.bar(df_clean[\"overall\"].value_counts().index, np.log(df_clean[\"overall\"].value_counts().values))"
   ]
  },
  {
   "cell_type": "markdown",
   "id": "bf391e16",
   "metadata": {},
   "source": [
    "# Preprocessing"
   ]
  },
  {
   "cell_type": "code",
   "execution_count": 225,
   "id": "0c118fc3",
   "metadata": {},
   "outputs": [],
   "source": [
    "df_json = df_json.drop([\"reviewerID\", \"asin\", \"reviewerName\", \"unixReviewTime\", \"reviewTime\"], axis=1)"
   ]
  },
  {
   "cell_type": "code",
   "execution_count": 226,
   "id": "5e9611ba",
   "metadata": {},
   "outputs": [
    {
     "data": {
      "text/html": [
       "<div>\n",
       "<style scoped>\n",
       "    .dataframe tbody tr th:only-of-type {\n",
       "        vertical-align: middle;\n",
       "    }\n",
       "\n",
       "    .dataframe tbody tr th {\n",
       "        vertical-align: top;\n",
       "    }\n",
       "\n",
       "    .dataframe thead th {\n",
       "        text-align: right;\n",
       "    }\n",
       "</style>\n",
       "<table border=\"1\" class=\"dataframe\">\n",
       "  <thead>\n",
       "    <tr style=\"text-align: right;\">\n",
       "      <th></th>\n",
       "      <th>helpful</th>\n",
       "      <th>reviewText</th>\n",
       "      <th>overall</th>\n",
       "      <th>summary</th>\n",
       "    </tr>\n",
       "  </thead>\n",
       "  <tbody>\n",
       "    <tr>\n",
       "      <th>0</th>\n",
       "      <td>[0, 0]</td>\n",
       "      <td>Not much to write about here, but it does exac...</td>\n",
       "      <td>5</td>\n",
       "      <td>good</td>\n",
       "    </tr>\n",
       "    <tr>\n",
       "      <th>1</th>\n",
       "      <td>[13, 14]</td>\n",
       "      <td>The product does exactly as it should and is q...</td>\n",
       "      <td>5</td>\n",
       "      <td>Jake</td>\n",
       "    </tr>\n",
       "    <tr>\n",
       "      <th>2</th>\n",
       "      <td>[1, 1]</td>\n",
       "      <td>The primary job of this device is to block the...</td>\n",
       "      <td>5</td>\n",
       "      <td>It Does The Job Well</td>\n",
       "    </tr>\n",
       "    <tr>\n",
       "      <th>3</th>\n",
       "      <td>[0, 0]</td>\n",
       "      <td>Nice windscreen protects my MXL mic and preven...</td>\n",
       "      <td>5</td>\n",
       "      <td>GOOD WINDSCREEN FOR THE MONEY</td>\n",
       "    </tr>\n",
       "    <tr>\n",
       "      <th>4</th>\n",
       "      <td>[0, 0]</td>\n",
       "      <td>This pop filter is great. It looks and perform...</td>\n",
       "      <td>5</td>\n",
       "      <td>No more pops when I record my vocals.</td>\n",
       "    </tr>\n",
       "  </tbody>\n",
       "</table>\n",
       "</div>"
      ],
      "text/plain": [
       "    helpful                                         reviewText  overall  \\\n",
       "0    [0, 0]  Not much to write about here, but it does exac...        5   \n",
       "1  [13, 14]  The product does exactly as it should and is q...        5   \n",
       "2    [1, 1]  The primary job of this device is to block the...        5   \n",
       "3    [0, 0]  Nice windscreen protects my MXL mic and preven...        5   \n",
       "4    [0, 0]  This pop filter is great. It looks and perform...        5   \n",
       "\n",
       "                                 summary  \n",
       "0                                   good  \n",
       "1                                   Jake  \n",
       "2                   It Does The Job Well  \n",
       "3          GOOD WINDSCREEN FOR THE MONEY  \n",
       "4  No more pops when I record my vocals.  "
      ]
     },
     "execution_count": 226,
     "metadata": {},
     "output_type": "execute_result"
    }
   ],
   "source": [
    "df_json.head()"
   ]
  },
  {
   "cell_type": "code",
   "execution_count": 227,
   "id": "39e5d6af",
   "metadata": {},
   "outputs": [],
   "source": [
    "X = df_json.drop([\"helpful\", \"overall\", \"summary\"], axis=1)\n",
    "y = df_json[\"overall\"]"
   ]
  },
  {
   "cell_type": "code",
   "execution_count": 228,
   "id": "1ce6d7f1",
   "metadata": {},
   "outputs": [],
   "source": [
    "total_len = len(df_json)"
   ]
  },
  {
   "cell_type": "code",
   "execution_count": 229,
   "id": "1df54408",
   "metadata": {},
   "outputs": [],
   "source": [
    "threshold = 0.00001"
   ]
  },
  {
   "cell_type": "code",
   "execution_count": 230,
   "id": "60b40c23",
   "metadata": {},
   "outputs": [
    {
     "name": "stdout",
     "output_type": "stream",
     "text": [
      "[0, 3, 4, 5, 6, 7, 8, 9, 11, 12, 13, 14, 15, 16, 17, 19, 20, 21, 22, 23, 24, 25, 26, 27, 29, 30, 31, 32, 33, 34, 35, 36, 37, 38, 39, 40, 41, 42, 43, 44, 45, 47, 48, 51, 52, 53, 54, 55, 56, 57, 58, 59, 60, 61, 62, 63, 64, 65, 67, 68, 69, 70, 71, 72, 73, 75, 78, 79, 80, 81, 82, 83, 84, 85, 86, 87, 89, 90, 91, 92, 93, 94, 97, 98, 99, 100, 101, 102, 104, 105, 106, 107, 108, 109, 110, 111, 112, 113, 115, 116, 117, 118, 120, 121, 122, 124, 125, 126, 127, 128, 129, 131, 132, 134, 135, 136, 137, 138, 140, 141, 142, 143, 145, 146, 147, 148, 150, 151, 152, 153, 160, 161, 163, 164, 165, 166, 167, 168, 170, 171, 175, 176, 178, 179, 181, 182, 183, 184, 186, 192, 193, 195, 197, 198, 201, 202, 203, 204, 205, 209, 210, 213, 214, 215, 218, 219, 221, 222, 223, 224, 225, 227, 228, 229, 230, 233, 234, 235, 236, 238, 239, 240, 241, 242, 244, 245, 246, 247, 248, 249, 250, 252, 256, 260, 262, 263, 264, 265, 269, 271, 273, 274, 275, 276, 278, 279, 280, 282, 283, 286, 287, 289, 291, 292, 293, 294, 295, 296, 297, 298, 299, 300, 301, 302, 303, 304, 306, 307, 308, 309, 310, 311, 312, 314, 315, 317, 318, 325, 327, 328, 330, 331, 333, 334, 336, 337, 338, 339, 340, 341, 342, 343, 344, 345, 346, 347, 349, 350, 351, 352, 357, 358, 359, 360, 361, 367, 370, 380, 381, 382, 383, 384, 385, 386, 387, 388, 389, 390, 393, 395, 397, 399, 403, 409, 411, 414, 415, 417, 418, 421, 422, 424, 428, 429, 432, 433, 435, 438, 443, 445, 447, 453, 457, 458, 459, 461, 462, 463, 465, 466, 468, 469, 470, 471, 473, 474, 475, 476, 480, 481, 485, 486, 487, 489, 490, 491, 492, 493, 494, 496, 498, 499, 502, 504, 507, 508, 510, 511, 513, 515, 517, 518, 519, 521, 522, 523, 525, 526, 528, 529, 530, 531, 532, 533, 534, 535, 536, 537, 538, 539, 540, 541, 545, 547, 548, 551, 552, 553, 554, 555, 556, 557, 558, 559, 560, 561, 562, 563, 565, 566, 567, 568, 569, 570, 571, 572, 573, 574, 575, 576, 577, 578, 579, 580, 581, 582, 583, 584, 585, 586, 587, 588, 590, 591, 593, 594, 595, 596, 597, 598, 599, 600, 601, 602, 603, 604, 605, 607, 608, 609, 612, 613, 616, 617, 618, 619, 620, 621, 622, 623, 624, 625, 626, 628, 629, 630, 631, 632, 634, 635, 636, 637, 638, 639, 640, 641, 643, 644, 646, 649, 650, 651, 652, 653, 655, 657, 658, 659, 660, 662, 663, 664, 665, 667, 668, 669, 670, 671, 672, 674, 675, 677, 679, 680, 681, 682, 684, 685, 686, 689, 690, 691, 694, 695, 697, 699, 700, 706, 707, 708, 709, 710, 711, 712, 713, 714, 716, 717, 718, 719, 721, 723, 725, 726, 727, 730, 731, 732, 733, 735, 736, 737, 738, 740, 743, 744, 746, 747, 748, 749, 750, 752, 753, 754, 755, 756, 757, 758, 760, 761, 762, 763, 764, 765, 766, 767, 768, 769, 770, 771, 772, 774, 775, 776, 777, 778, 779, 780, 781, 783, 784, 787, 788, 789, 790, 792, 793, 794, 795, 796, 797, 798, 799, 800, 801, 802, 803, 804, 805, 806, 807, 808, 809, 810, 812, 813, 814, 815, 816, 817, 818, 819, 820, 821, 822, 826, 827, 828, 829, 830, 832, 834, 835, 837, 840, 841, 842, 843, 846, 847, 848, 849, 850, 851, 852, 853, 855, 858, 859, 860, 863, 866, 868, 869, 870, 871, 872, 873, 876, 877, 879, 881, 883, 886, 888, 891, 893, 896, 898, 899, 900, 901, 902, 903, 904, 905, 906, 907, 908, 909, 910, 911, 912, 913, 914, 915, 916, 918, 919, 920, 921, 922, 923, 924, 926, 927, 930, 931, 932, 933, 934, 935, 936, 937, 938, 939, 940, 941, 942, 943, 944, 945, 946, 947, 948, 949, 951, 955, 961, 963, 964, 965, 966, 967, 968, 970, 971, 972, 973, 975, 976, 977, 979, 980, 984, 985, 986, 988, 989, 990, 991, 992, 994, 999, 1000, 1001, 1004, 1005, 1008, 1010, 1011, 1014, 1016, 1017, 1019, 1020, 1021, 1022, 1023, 1025, 1026, 1028, 1029, 1030, 1031, 1032, 1033, 1035, 1037, 1038, 1039, 1042, 1043, 1044, 1045, 1046, 1047, 1048, 1049, 1050, 1051, 1054, 1055, 1058, 1060, 1061, 1063, 1064, 1065, 1070, 1073, 1074, 1075, 1076, 1077, 1079, 1087, 1088, 1089, 1090, 1092, 1094, 1095, 1096, 1097, 1098, 1100, 1101, 1102, 1106, 1110, 1111, 1112, 1113, 1114, 1115, 1119, 1123, 1126, 1127, 1130, 1133, 1135, 1136, 1137, 1138, 1139, 1140, 1141, 1143, 1144, 1145, 1146, 1147, 1148, 1149, 1150, 1151, 1153, 1154, 1156, 1157, 1159, 1160, 1161, 1162, 1163, 1164, 1165, 1166, 1167, 1169, 1170, 1172, 1173, 1174, 1176, 1178, 1182, 1184, 1185, 1186, 1187, 1189, 1191, 1192, 1193, 1194, 1195, 1196, 1197, 1198, 1199, 1202, 1203, 1204, 1206, 1207, 1208, 1209, 1210, 1211, 1212, 1213, 1215, 1216, 1217, 1218, 1219, 1220, 1221, 1222, 1224, 1225, 1226, 1227, 1228, 1230, 1231, 1232, 1233, 1234, 1235, 1236, 1237, 1238, 1239, 1240, 1242, 1243, 1244, 1245, 1246, 1247, 1248, 1249, 1250, 1252, 1253, 1254, 1255, 1256, 1257, 1258, 1259, 1260, 1261, 1262, 1263, 1264, 1266, 1267, 1269, 1270, 1271, 1272, 1273, 1274, 1275, 1276, 1277, 1278, 1280, 1281, 1282, 1283, 1284, 1285, 1286, 1287, 1288, 1289, 1290, 1291, 1293, 1294, 1295, 1297, 1298, 1299, 1300, 1301, 1302, 1303, 1304, 1305, 1306, 1307, 1308, 1309, 1310, 1311, 1312, 1313, 1314, 1315, 1316, 1317, 1318, 1319, 1320, 1321, 1322, 1323, 1324, 1325, 1326, 1327, 1328, 1329, 1330, 1331, 1332, 1333, 1334, 1336, 1337, 1339, 1340, 1341, 1342, 1344, 1345, 1346, 1347, 1348, 1349, 1350, 1351, 1352, 1353, 1354, 1355, 1356, 1357, 1359, 1360, 1361, 1362, 1363, 1364, 1365, 1366, 1367, 1371, 1372, 1376, 1379, 1381, 1382, 1384, 1385, 1387, 1390, 1393, 1394, 1395, 1396, 1397, 1398, 1399, 1400, 1403, 1404, 1405, 1407, 1408, 1409, 1411, 1412, 1414, 1415, 1416, 1417, 1423, 1425, 1427, 1428, 1429, 1430, 1431, 1432, 1433, 1434, 1435, 1436, 1439, 1440, 1441, 1442, 1443, 1445, 1446, 1447, 1449, 1450, 1452, 1453, 1454, 1456, 1457, 1458, 1459, 1460, 1462, 1463, 1464, 1465, 1466, 1467, 1469, 1470, 1471, 1472, 1473, 1475, 1478, 1479, 1480, 1481, 1482, 1484, 1485, 1486, 1487, 1489, 1490, 1491, 1492, 1494, 1495, 1497, 1498, 1499, 1501, 1502, 1504, 1505, 1506, 1507, 1509, 1511, 1512, 1513, 1514, 1516, 1527, 1528, 1529, 1530, 1532, 1534, 1538, 1539, 1540, 1541, 1542, 1543, 1547, 1550, 1551, 1552, 1554, 1556, 1558, 1559, 1564, 1565, 1570, 1571, 1572, 1573, 1575, 1576, 1577, 1578, 1580, 1581, 1582, 1583, 1585, 1586, 1587, 1588, 1589, 1591, 1592, 1593, 1594, 1595, 1596, 1597, 1599, 1600, 1601, 1602, 1603, 1604, 1606, 1607, 1608, 1610, 1611, 1612, 1613, 1614, 1615, 1616, 1617, 1618, 1619, 1620, 1621, 1622, 1623, 1624, 1625, 1627, 1628, 1629, 1631, 1632, 1633, 1634, 1635, 1636, 1637, 1638, 1639, 1640, 1641, 1642, 1643, 1644, 1645, 1646, 1647, 1648, 1649, 1650, 1652, 1653, 1654, 1655, 1656, 1657, 1659, 1660, 1661, 1662, 1663, 1664, 1665, 1666, 1667, 1669, 1671, 1672, 1673, 1675, 1676, 1678, 1679, 1682, 1686, 1687, 1688, 1689, 1690, 1691, 1692, 1693, 1694, 1695, 1697, 1698, 1700, 1701, 1702, 1703, 1704, 1705, 1706, 1708, 1710, 1711, 1712, 1713, 1714, 1716, 1718, 1719, 1720, 1721, 1722, 1723, 1724, 1725, 1726, 1727, 1728, 1729, 1730, 1731, 1732, 1734, 1736, 1737, 1739, 1740, 1742, 1744, 1746, 1747, 1748, 1749, 1750, 1751, 1752, 1753, 1754, 1758, 1759, 1761, 1763, 1765, 1766, 1767, 1768, 1769, 1770, 1771, 1772, 1773, 1774, 1775, 1776, 1777, 1778, 1779, 1782, 1783, 1784, 1785, 1786, 1787, 1789, 1790, 1792, 1796, 1797, 1798, 1800, 1802, 1804, 1805, 1806, 1808, 1809, 1810, 1811, 1812, 1813, 1814, 1816, 1817, 1818, 1822, 1823, 1824, 1825, 1827, 1828, 1829, 1830, 1832, 1833, 1834, 1835, 1837, 1838, 1839, 1840, 1842, 1846, 1847, 1848, 1849, 1851, 1855, 1856, 1860, 1861, 1864, 1865, 1866, 1867, 1868, 1869, 1871, 1872, 1873, 1874, 1876, 1877, 1878, 1881, 1882, 1889, 1890, 1891, 1892, 1893, 1895, 1896, 1897, 1898, 1899, 1900, 1901, 1905, 1906, 1907, 1909, 1910, 1912, 1914, 1915, 1916, 1917, 1920, 1922, 1923, 1924, 1925, 1926, 1927, 1928, 1929, 1930, 1932, 1933, 1934, 1935, 1938, 1940, 1943, 1945, 1948, 1950, 1951, 1952, 1955, 1956, 1962, 1963, 1964, 1967, 1968, 1969, 1970, 1971, 1972, 1976, 1979, 1980, 1983, 1986, 1991, 1992, 1993, 1996, 1997, 1998, 2000, 2002, 2007, 2009, 2010, 2012, 2015, 2017, 2019, 2021, 2022, 2024, 2025, 2030, 2032, 2033, 2036, 2037, 2040, 2041, 2042, 2043, 2044, 2046, 2047, 2048, 2049, 2050, 2051, 2052, 2053, 2054, 2055, 2056, 2057, 2061, 2064, 2065, 2066, 2067, 2069, 2070, 2073, 2074, 2075, 2078, 2079, 2080, 2081, 2082, 2083, 2084, 2085, 2087, 2088, 2089, 2090, 2091, 2092, 2093, 2094, 2095, 2096, 2097, 2098, 2100, 2102, 2103, 2104, 2105, 2106, 2107, 2108, 2109, 2110, 2114, 2115, 2116, 2118, 2119, 2120, 2121, 2122, 2124, 2125, 2126, 2127, 2128, 2129, 2130, 2131, 2132, 2134, 2135, 2138, 2139, 2140, 2141, 2142, 2143, 2145, 2146, 2147, 2148, 2149, 2150, 2151, 2152, 2153, 2154, 2155, 2156, 2157, 2158, 2159, 2161, 2162, 2163, 2164, 2165, 2166, 2167, 2169, 2170, 2171, 2172, 2173, 2174, 2175, 2176, 2178, 2179, 2180, 2182, 2183, 2184, 2185, 2186, 2187, 2188, 2190, 2191, 2192, 2197, 2198, 2199, 2201, 2202, 2204, 2207, 2208, 2209, 2213, 2214, 2217, 2219, 2221, 2222, 2223, 2226, 2227, 2228, 2231, 2232, 2233, 2235, 2241, 2248, 2253, 2257, 2260, 2261, 2263, 2265, 2266, 2267, 2268, 2269, 2270, 2271, 2272, 2273, 2274, 2275, 2276, 2277, 2278, 2280, 2281, 2282, 2283, 2284, 2285, 2287, 2288, 2289, 2291, 2292, 2293, 2294, 2296, 2297, 2298, 2299, 2300, 2301, 2302, 2303, 2304, 2306, 2309, 2311, 2313, 2314, 2315, 2316, 2317, 2319, 2321, 2323, 2324, 2325, 2326, 2328, 2329, 2331, 2333, 2334, 2336, 2338, 2340, 2342, 2343, 2345, 2346, 2348, 2349, 2350, 2353, 2354, 2355, 2356, 2357, 2358, 2359, 2360, 2361, 2363, 2364, 2366, 2367, 2368, 2369, 2371, 2372, 2373, 2374, 2375, 2376, 2377, 2378, 2379, 2380, 2381, 2382, 2383, 2384, 2385, 2386, 2387, 2388, 2389, 2391, 2393, 2394, 2395, 2396, 2397, 2398, 2400, 2401, 2402, 2403, 2404, 2405, 2406, 2407, 2408, 2409, 2410, 2411, 2412, 2413, 2414, 2415, 2416, 2417, 2418, 2419, 2420, 2421, 2422, 2423, 2424, 2425, 2426, 2427, 2428, 2429, 2430, 2431, 2435, 2436, 2437, 2438, 2439, 2440, 2441, 2442, 2444, 2445, 2446, 2449, 2450, 2451, 2452, 2454, 2455, 2456, 2457, 2458, 2459, 2460, 2461, 2462, 2463, 2464, 2468, 2469, 2470, 2471, 2472, 2473, 2474, 2475, 2476, 2477, 2479, 2480, 2482, 2483, 2484, 2485, 2486, 2487, 2489, 2490, 2491, 2492, 2493, 2494, 2495, 2497, 2498, 2499, 2500, 2501, 2502, 2504, 2505, 2506, 2508, 2509, 2510, 2513, 2514, 2515, 2516, 2517, 2519, 2520, 2521, 2522, 2523, 2524, 2525, 2527, 2528, 2530, 2531, 2532, 2533, 2536, 2537, 2538, 2539, 2540, 2542, 2543, 2544, 2545, 2546, 2547, 2548, 2549, 2550, 2551, 2552, 2553, 2554, 2555, 2557, 2558, 2560, 2561, 2562, 2563, 2564, 2565, 2566, 2567, 2569, 2570, 2571, 2574, 2575, 2576, 2579, 2580, 2581, 2582, 2583, 2584, 2585, 2587, 2588, 2591, 2592, 2593, 2594, 2595, 2596, 2597, 2598, 2599, 2600, 2601, 2602, 2603, 2604, 2605, 2606, 2612, 2613, 2614, 2619, 2621, 2625, 2628, 2629, 2631, 2633, 2636, 2637, 2638, 2639, 2640, 2641, 2642, 2644, 2645, 2646, 2648, 2650, 2651, 2652, 2653, 2654, 2655, 2656, 2658, 2659, 2660, 2661, 2663, 2664, 2665, 2666, 2669, 2672, 2674, 2676, 2678, 2679, 2680, 2681, 2684, 2686, 2687, 2690, 2691, 2692, 2694, 2696, 2697, 2698, 2699, 2700, 2701, 2702, 2704, 2705, 2706, 2710, 2713, 2716, 2717, 2719, 2721, 2722, 2723, 2725, 2726, 2727, 2729, 2730, 2731, 2732, 2733, 2734, 2735, 2736, 2737, 2738, 2740, 2741, 2742, 2743, 2744, 2746, 2747, 2748, 2749, 2752, 2753, 2754, 2756, 2757, 2758, 2759, 2760, 2761, 2762, 2763, 2764, 2766, 2767, 2768, 2769, 2770, 2771, 2772, 2774, 2776, 2777, 2778, 2779, 2780, 2781, 2782, 2783, 2785, 2786, 2787, 2788, 2789, 2791, 2792, 2793, 2794, 2798, 2800, 2801, 2802, 2803, 2804, 2805, 2806, 2807, 2809, 2810, 2811, 2812, 2813, 2814, 2815, 2817, 2818, 2821, 2823, 2824, 2826, 2828, 2829, 2830, 2831, 2832, 2833, 2835, 2836, 2837, 2838, 2839, 2840, 2841, 2842, 2843, 2844, 2846, 2847, 2848, 2849, 2850, 2851, 2853, 2854, 2856, 2860, 2861, 2862, 2863, 2864, 2865, 2866, 2867, 2868, 2870, 2871, 2873, 2874, 2875, 2876, 2877, 2878, 2879, 2880, 2881, 2883, 2884, 2885, 2886, 2887, 2888, 2889, 2890, 2891, 2892, 2893, 2895, 2896, 2898, 2901, 2902, 2903, 2905, 2906, 2907, 2908, 2909, 2910, 2911, 2913, 2914, 2915, 2916, 2917, 2918, 2919, 2923, 2924, 2925, 2928, 2929, 2930, 2933, 2934, 2936, 2937, 2938, 2940, 2941, 2943, 2945, 2947, 2950, 2951, 2953, 2955, 2956, 2957, 2958, 2960, 2961, 2965, 2967, 2968, 2969, 2971, 2972, 2974, 2979, 2984, 2985, 2989, 2990, 2993, 2994, 2995, 2996, 2997, 2998, 2999, 3000, 3001, 3002, 3003, 3004, 3005, 3006, 3007, 3008, 3009, 3010, 3011, 3012, 3013, 3014, 3015, 3016, 3017, 3018, 3019, 3022, 3023, 3024, 3025, 3026, 3027, 3028, 3029, 3030, 3032, 3033, 3034, 3035, 3036, 3037, 3038, 3039, 3040, 3041, 3042, 3044, 3046, 3047, 3048, 3049, 3052, 3053, 3054, 3055, 3056, 3057, 3058, 3060, 3061, 3062, 3063, 3065, 3066, 3067, 3069, 3070, 3071, 3073, 3075, 3079, 3080, 3082, 3083, 3084, 3085, 3086, 3088, 3089, 3091, 3093, 3094, 3095, 3098, 3099, 3100, 3101, 3102, 3105, 3112, 3115, 3116, 3117, 3119, 3124, 3125, 3126, 3128, 3130, 3131, 3132, 3133, 3134, 3135, 3137, 3138, 3139, 3140, 3141, 3142, 3143, 3144, 3145, 3146, 3148, 3149, 3152, 3154, 3155, 3157, 3158, 3160, 3162, 3163, 3165, 3166, 3168, 3170, 3171, 3172, 3173, 3174, 3175, 3176, 3178, 3179, 3182, 3184, 3185, 3186, 3187, 3189, 3190, 3191, 3192, 3193, 3194, 3195, 3196, 3197, 3198, 3199, 3201, 3202, 3204, 3205, 3206, 3207, 3209, 3211, 3213, 3219, 3221, 3222, 3223, 3225, 3226, 3227, 3228, 3229, 3230, 3231, 3232, 3233, 3234, 3236, 3239, 3242, 3243, 3245, 3246, 3247, 3248, 3249, 3250, 3251, 3252, 3253, 3254, 3255, 3257, 3258, 3260, 3261, 3262, 3263, 3264, 3265, 3268, 3270, 3271, 3272, 3273, 3275, 3276, 3277, 3278, 3280, 3282, 3285, 3286, 3287, 3289, 3290, 3291, 3292, 3293, 3294, 3295, 3296, 3298, 3299, 3300, 3302, 3303, 3304, 3306, 3307, 3308, 3309, 3311, 3312, 3313, 3315, 3316, 3317, 3318, 3319, 3320, 3321, 3322, 3324, 3325, 3326, 3327, 3328, 3329, 3330, 3331, 3332, 3334, 3336, 3337, 3338, 3341, 3343, 3344, 3346, 3350, 3353, 3354, 3356, 3357, 3359, 3360, 3361, 3363, 3365, 3367, 3369, 3372, 3374, 3375, 3376, 3377, 3379, 3380, 3381, 3382, 3383, 3384, 3385, 3387, 3388, 3390, 3391, 3392, 3393, 3394, 3395, 3396, 3398, 3400, 3402, 3404, 3405, 3406, 3407, 3408, 3409, 3410, 3412, 3414, 3415, 3416, 3421, 3422, 3426, 3428, 3429, 3434, 3435, 3436, 3438, 3439, 3441, 3442, 3443, 3446, 3447, 3449, 3450, 3451, 3452, 3453, 3455, 3457, 3459, 3461, 3462, 3465, 3466, 3467, 3468, 3469, 3471, 3472, 3473, 3474, 3475, 3476, 3478, 3479, 3480, 3481, 3482, 3483, 3484, 3485, 3486, 3487, 3488, 3489, 3491, 3493, 3494, 3495, 3496, 3497, 3498, 3500, 3501, 3502, 3503, 3504, 3506, 3507, 3508, 3510, 3511, 3512, 3513, 3514, 3515, 3516, 3519, 3520, 3521, 3525, 3526, 3527, 3528, 3529, 3530, 3532, 3533, 3534, 3535, 3536, 3540, 3542, 3544, 3546, 3547, 3549, 3551, 3552, 3553, 3554, 3555, 3556, 3559, 3562, 3563, 3564, 3565, 3566, 3567, 3569, 3570, 3571, 3573, 3574, 3575, 3576, 3577, 3579, 3580, 3581, 3582, 3583, 3584, 3585, 3586, 3587, 3588, 3589, 3590, 3593, 3594, 3596, 3597, 3598, 3599, 3600, 3603, 3604, 3606, 3607, 3608, 3609, 3610, 3611, 3615, 3616, 3617, 3618, 3619, 3620, 3621, 3622, 3624, 3625, 3626, 3627, 3630, 3631, 3632, 3634, 3635, 3636, 3637, 3638, 3639, 3640, 3641, 3642, 3643, 3644, 3645, 3648, 3649, 3650, 3651, 3652, 3653, 3654, 3655, 3656, 3657, 3658, 3660, 3661, 3663, 3664, 3665, 3666, 3667, 3668, 3669, 3670, 3671, 3672, 3673, 3674, 3675, 3676, 3677, 3678, 3680, 3681, 3682, 3683, 3684, 3685, 3686, 3687, 3688, 3689, 3690, 3691, 3692, 3693, 3694, 3696, 3697, 3698, 3699, 3700, 3701, 3702, 3703, 3704, 3705, 3706, 3707, 3709, 3710, 3711, 3712, 3713, 3714, 3715, 3716, 3720, 3722, 3724, 3725, 3734, 3735, 3736, 3737, 3738, 3739, 3740, 3741, 3742, 3743, 3744, 3747, 3749, 3751, 3753, 3754, 3755, 3756, 3758, 3759, 3760, 3762, 3766, 3767, 3768, 3769, 3770, 3771, 3772, 3773, 3775, 3777, 3778, 3780, 3783, 3784, 3785, 3786, 3789, 3790, 3791, 3792, 3793, 3796, 3797, 3798, 3800, 3804, 3805, 3806, 3808, 3810, 3811, 3817, 3818, 3819, 3820, 3822, 3823, 3824, 3825, 3826, 3827, 3828, 3829, 3831, 3832, 3834, 3836, 3837, 3838, 3840, 3841, 3842, 3844, 3845, 3846, 3847, 3848, 3849, 3850, 3851, 3855, 3856, 3857, 3858, 3860, 3861, 3862, 3863, 3864, 3865, 3866, 3867, 3868, 3870, 3871, 3873, 3875, 3876, 3877, 3878, 3879, 3882, 3883, 3884, 3885, 3886, 3887, 3890, 3893, 3894, 3895, 3896, 3897, 3898, 3899, 3900, 3901, 3902, 3903, 3904, 3905, 3906, 3907, 3908, 3910, 3912, 3914, 3915, 3916, 3917, 3918, 3919, 3923, 3924, 3927, 3928, 3929, 3930, 3932, 3934, 3935, 3936, 3937, 3938, 3939, 3940, 3942, 3944, 3945, 3948, 3949, 3950, 3952, 3953, 3955, 3956, 3957, 3958, 3959, 3960, 3961, 3962, 3963, 3964, 3965, 3967, 3972, 3973, 3974, 3975, 3976, 3977, 3978, 3980, 3981, 3983, 3984, 3985, 3986, 3987, 3988, 3989, 3990, 3991, 3992, 3993, 3994, 3995, 3996, 3997, 3998, 3999, 4001, 4002, 4003, 4005, 4006, 4007, 4008, 4009, 4011, 4013, 4015, 4016, 4017, 4018, 4019, 4020, 4021, 4022, 4023, 4024, 4025, 4026, 4027, 4028, 4029, 4030, 4031, 4032, 4033, 4034, 4036, 4037, 4038, 4039, 4040, 4041, 4042, 4043, 4045, 4046, 4047, 4049, 4053, 4056, 4060, 4061, 4062, 4063, 4065, 4066, 4069, 4070, 4071, 4074, 4075, 4076, 4077, 4079, 4080, 4081, 4083, 4084, 4085, 4086, 4087, 4088, 4089, 4091, 4094, 4095, 4096, 4098, 4099, 4100, 4101, 4102, 4103, 4105, 4106, 4109, 4110, 4113, 4114, 4117, 4118, 4119, 4120, 4123, 4124, 4125, 4126, 4127, 4128, 4129, 4130, 4131, 4132, 4133, 4134, 4135, 4136, 4137, 4138, 4139, 4142, 4149, 4150, 4151, 4154, 4160, 4163, 4164, 4167, 4168, 4169, 4171, 4172, 4173, 4174, 4182, 4183, 4184, 4185, 4186, 4187, 4188, 4192, 4193, 4195, 4197, 4200, 4201, 4203, 4206, 4208, 4210, 4211, 4212, 4214, 4216, 4217, 4218, 4219, 4221, 4224, 4225, 4226, 4227, 4228, 4229, 4230, 4231, 4232, 4233, 4234, 4235, 4236, 4238, 4239, 4240, 4242, 4243, 4244, 4245, 4246, 4247, 4248, 4249, 4250, 4251, 4252, 4253, 4255, 4257, 4259, 4261, 4263, 4265, 4266, 4268, 4269, 4270, 4271, 4272, 4273, 4274, 4275, 4276, 4277, 4278, 4279, 4284, 4285, 4287, 4288, 4289, 4290, 4291, 4292, 4293, 4294, 4295, 4296, 4297, 4298, 4300, 4302, 4303, 4305, 4306, 4316, 4320, 4321, 4322, 4323, 4325, 4326, 4328, 4329, 4332, 4334, 4338, 4341, 4343, 4345, 4346, 4348, 4349, 4350, 4351, 4352, 4355, 4356, 4357, 4358, 4359, 4360, 4361, 4362, 4363, 4364, 4365, 4366, 4368, 4369, 4370, 4371, 4372, 4373, 4374, 4375, 4376, 4377, 4378, 4379, 4381, 4382, 4383, 4385, 4387, 4390, 4391, 4392, 4393, 4394, 4395, 4396, 4397, 4399, 4400, 4402, 4403, 4405, 4406, 4408, 4409, 4410, 4411, 4412, 4413, 4414, 4415, 4417, 4419, 4425, 4429, 4430, 4432, 4434, 4437, 4438, 4440, 4444, 4446, 4447, 4449, 4452, 4453, 4455, 4456, 4462, 4463, 4465, 4466, 4467, 4468, 4469, 4470, 4471, 4472, 4473, 4474, 4476, 4477, 4478, 4479, 4480, 4482, 4485, 4486, 4487, 4489, 4490, 4491, 4492, 4493, 4494, 4495, 4496, 4497, 4498, 4499, 4500, 4502, 4503, 4504, 4505, 4506, 4507, 4508, 4509, 4510, 4514, 4517, 4519, 4520, 4521, 4522, 4525, 4527, 4528, 4529, 4530, 4531, 4533, 4535, 4536, 4537, 4542, 4544, 4545, 4546, 4549, 4551, 4552, 4553, 4555, 4556, 4557, 4559, 4562, 4563, 4565, 4566, 4567, 4568, 4569, 4570, 4571, 4572, 4573, 4574, 4575, 4576, 4583, 4584, 4585, 4587, 4588, 4589, 4590, 4591, 4592, 4593, 4594, 4595, 4596, 4598, 4599, 4600, 4601, 4602, 4603, 4604, 4605, 4606, 4607, 4608, 4609, 4610, 4611, 4613, 4614, 4615, 4616, 4617, 4618, 4619, 4626, 4627, 4629, 4630, 4632, 4634, 4635, 4636, 4637, 4638, 4639, 4640, 4641, 4642, 4646, 4647, 4648, 4649, 4650, 4651, 4652, 4654, 4655, 4658, 4661, 4662, 4663, 4664, 4666, 4667, 4671, 4673, 4676, 4677, 4678, 4679, 4680, 4682, 4683, 4684, 4685, 4686, 4687, 4689, 4690, 4691, 4693, 4695, 4696, 4698, 4700, 4701, 4702, 4703, 4704, 4705, 4706, 4707, 4709, 4710, 4711, 4712, 4714, 4715, 4717, 4719, 4722, 4723, 4724, 4725, 4726, 4727, 4728, 4729, 4730, 4731, 4735, 4736, 4737, 4738, 4740, 4746, 4747, 4749, 4753, 4754, 4755, 4756, 4757, 4758, 4759, 4760, 4761, 4762, 4765, 4766, 4768, 4769, 4771, 4772, 4773, 4774, 4777, 4780, 4782, 4783, 4785, 4788, 4789, 4790, 4792, 4794, 4796, 4799, 4803, 4804, 4805, 4806, 4807, 4808, 4810, 4811, 4812, 4813, 4816, 4817, 4819, 4820, 4821, 4823, 4830, 4840, 4845, 4847, 4848, 4849, 4851, 4852, 4853, 4854, 4855, 4856, 4858, 4860, 4861, 4862, 4863, 4864, 4865, 4867, 4869, 4870, 4877, 4878, 4879, 4880, 4881, 4882, 4886, 4887, 4889, 4890, 4891, 4892, 4893, 4894, 4897, 4898, 4899, 4900, 4901, 4903, 4904, 4908, 4909, 4913, 4914, 4916, 4917, 4918, 4919, 4920, 4925, 4927, 4928, 4929, 4931, 4932, 4936, 4937, 4938, 4943, 4944, 4946, 4947, 4949, 4950, 4952, 4957, 4960, 4967, 4968, 4969, 4972, 4973, 4974, 4979, 4980, 4981, 4988, 4991, 4993, 4995, 4996, 4998, 4999, 5000, 5001, 5002, 5005, 5006, 5008, 5009, 5012, 5013, 5014, 5015, 5016, 5018, 5019, 5020, 5021, 5022, 5024, 5025, 5026, 5027, 5028, 5031, 5032, 5033, 5035, 5042, 5043, 5044, 5045, 5047, 5048, 5051, 5058, 5059, 5060, 5063, 5064, 5066, 5069, 5070, 5071, 5072, 5073, 5074, 5077, 5079, 5080, 5081, 5082, 5083, 5084, 5087, 5088, 5089, 5090, 5091, 5092, 5093, 5094, 5096, 5097, 5098, 5099, 5103, 5105, 5107, 5108, 5109, 5110, 5113, 5115, 5117, 5119, 5120, 5126, 5131, 5135, 5136, 5140, 5144, 5146, 5147, 5148, 5149, 5150, 5151, 5152, 5153, 5155, 5156, 5157, 5159, 5160, 5161, 5163, 5165, 5166, 5167, 5168, 5169, 5170, 5174, 5176, 5179, 5180, 5181, 5182, 5183, 5184, 5186, 5187, 5188, 5189, 5192, 5193, 5194, 5196, 5198, 5199, 5201, 5202, 5203, 5204, 5205, 5207, 5208, 5209, 5211, 5213, 5214, 5215, 5216, 5218, 5219, 5220, 5221, 5222, 5224, 5226, 5228, 5231, 5238, 5241, 5246, 5247, 5249, 5250, 5251, 5252, 5253, 5254, 5255, 5256, 5257, 5258, 5260, 5261, 5262, 5263, 5264, 5265, 5267, 5268, 5269, 5272, 5273, 5274, 5276, 5277, 5278, 5279, 5280, 5281, 5283, 5284, 5287, 5288, 5290, 5293, 5294, 5297, 5299, 5300, 5302, 5307, 5308, 5309, 5310, 5311, 5312, 5313, 5314, 5315, 5316, 5317, 5318, 5319, 5320, 5321, 5322, 5324, 5326, 5327, 5328, 5329, 5331, 5334, 5335, 5337, 5338, 5339, 5340, 5342, 5343, 5344, 5345, 5346, 5347, 5348, 5349, 5350, 5351, 5352, 5353, 5354, 5358, 5362, 5365, 5367, 5368, 5369, 5371, 5372, 5374, 5375, 5377, 5378, 5379, 5380, 5381, 5382, 5383, 5384, 5385, 5386, 5387, 5388, 5389, 5390, 5394, 5395, 5396, 5398, 5400, 5401, 5402, 5403, 5404, 5408, 5409, 5410, 5412, 5413, 5414, 5415, 5417, 5418, 5419, 5420, 5421, 5422, 5423, 5424, 5425, 5426, 5428, 5430, 5431, 5433, 5434, 5435, 5436, 5437, 5438, 5439, 5442, 5443, 5444, 5446, 5447, 5448, 5449, 5450, 5451, 5452, 5453, 5454, 5455, 5458, 5459, 5461, 5462, 5464, 5465, 5466, 5467, 5468, 5469, 5470, 5472, 5473, 5474, 5482, 5483, 5485, 5487, 5488, 5489, 5490, 5493, 5494, 5495, 5497, 5498, 5500, 5501, 5505, 5506, 5507, 5509, 5510, 5511, 5512, 5513, 5514, 5515, 5516, 5517, 5518, 5519, 5520, 5521, 5522, 5523, 5524, 5525, 5528, 5530, 5531, 5532, 5533, 5534, 5535, 5536, 5539, 5540, 5542, 5543, 5544, 5545, 5548, 5549, 5553, 5554, 5560, 5561, 5562, 5564, 5565, 5568, 5569, 5572, 5573, 5574, 5575, 5576, 5577, 5578, 5580, 5584, 5591, 5592, 5594, 5595, 5601, 5602, 5608, 5613, 5614, 5616, 5617, 5618, 5619, 5620, 5622, 5623, 5626, 5627, 5632, 5634, 5637, 5639, 5640, 5641, 5642, 5643, 5644, 5645, 5646, 5648, 5650, 5651, 5652, 5653, 5655, 5656, 5657, 5659, 5660, 5661, 5662, 5663, 5664, 5666, 5667, 5668, 5669, 5677, 5679, 5680, 5681, 5682, 5683, 5684, 5688, 5693, 5695, 5697, 5698, 5699, 5700, 5704, 5705, 5706, 5709, 5711, 5713, 5715, 5719, 5720, 5721, 5726, 5733, 5734, 5735, 5739, 5743, 5744, 5745, 5748, 5749, 5750, 5753, 5754, 5755, 5756, 5757, 5760, 5761, 5762, 5763, 5764, 5766, 5767, 5771, 5772, 5773, 5774, 5775, 5785, 5791, 5794, 5795, 5796, 5797, 5799, 5800, 5801, 5802, 5803, 5807, 5808, 5809, 5810, 5811, 5813, 5814, 5816, 5817, 5818, 5822, 5824, 5825, 5826, 5829, 5830, 5832, 5834, 5835, 5836, 5839, 5840, 5842, 5844, 5846, 5847, 5848, 5850, 5851, 5852, 5854, 5855, 5856, 5857, 5858, 5859, 5860, 5861, 5862, 5863, 5864, 5865, 5866, 5867, 5868, 5869, 5870, 5871, 5872, 5873, 5874, 5876, 5878, 5883, 5884, 5889, 5894, 5895, 5898, 5904, 5905, 5907, 5908, 5909, 5911, 5912, 5913, 5915, 5916, 5917, 5918, 5920, 5921, 5922, 5923, 5929, 5930, 5931, 5934, 5935, 5936, 5938, 5940, 5943, 5946, 5948, 5952, 5953, 5954, 5956, 5960, 5962, 5963, 5965, 5966, 5967, 5968, 5969, 5971, 5975, 5976, 5977, 5978, 5979, 5982, 5985, 5986, 5987, 5988, 5989, 5990, 5991, 5995, 5996, 5998, 6003, 6004, 6005, 6010, 6011, 6014, 6017, 6018, 6020, 6021, 6022, 6029, 6030, 6032, 6033, 6036, 6037, 6038, 6039, 6041, 6042, 6043, 6044, 6045, 6048, 6049, 6050, 6051, 6052, 6054, 6055, 6056, 6057, 6058, 6060, 6061, 6062, 6063, 6068, 6069, 6070, 6072, 6073, 6076, 6078, 6080, 6081, 6082, 6083, 6085, 6087, 6088, 6090, 6091, 6092, 6093, 6094, 6095, 6096, 6097, 6099, 6101, 6102, 6103, 6105, 6106, 6107, 6108, 6109, 6110, 6112, 6113, 6114, 6115, 6117, 6118, 6119, 6120, 6121, 6122, 6123, 6124, 6125, 6126, 6127, 6128, 6129, 6131, 6134, 6137, 6138, 6140, 6142, 6143, 6144, 6147, 6151, 6152, 6153, 6155, 6157, 6158, 6169, 6172, 6174, 6176, 6177, 6178, 6179, 6180, 6185, 6191, 6192, 6195, 6197, 6198, 6204, 6206, 6207, 6208, 6210, 6211, 6216, 6217, 6220, 6221, 6223, 6224, 6226, 6228, 6230, 6231, 6232, 6233, 6234, 6235, 6236, 6237, 6238, 6240, 6241, 6242, 6243, 6244, 6245, 6246, 6247, 6248, 6249, 6251, 6252, 6254, 6255, 6256, 6257, 6258, 6259, 6260, 6263, 6264, 6265, 6266, 6267, 6268, 6271, 6273, 6274, 6275, 6276, 6278, 6279, 6280, 6281, 6283, 6284, 6285, 6286, 6287, 6288, 6289, 6290, 6291, 6293, 6295, 6296, 6297, 6298, 6299, 6300, 6301, 6302, 6303, 6304, 6305, 6306, 6307, 6308, 6309, 6310, 6311, 6313, 6314, 6315, 6317, 6318, 6319, 6320, 6321, 6322, 6323, 6324, 6325, 6326, 6327, 6329, 6330, 6332, 6333, 6336, 6337, 6338, 6339, 6340, 6341, 6344, 6345, 6346, 6347, 6349, 6350, 6351, 6352, 6353, 6354, 6355, 6356, 6357, 6359, 6360, 6361, 6365, 6366, 6367, 6368, 6370, 6371, 6372, 6376, 6377, 6378, 6379, 6381, 6382, 6384, 6389, 6393, 6394, 6395, 6397, 6398, 6403, 6405, 6407, 6408, 6412, 6413, 6415, 6419, 6420, 6421, 6422, 6423, 6424, 6425, 6432, 6436, 6445, 6447, 6448, 6450, 6452, 6454, 6455, 6458, 6459, 6460, 6463, 6464, 6467, 6471, 6473, 6474, 6475, 6476, 6478, 6480, 6482, 6483, 6485, 6486, 6487, 6488, 6490, 6492, 6498, 6499, 6500, 6502, 6503, 6504, 6505, 6506, 6514, 6520, 6522, 6524, 6527, 6528, 6530, 6531, 6532, 6539, 6540, 6541, 6542, 6543, 6544, 6545, 6546, 6547, 6548, 6549, 6551, 6552, 6553, 6554, 6555, 6556, 6558, 6559, 6560, 6561, 6564, 6565, 6566, 6567, 6570, 6571, 6573, 6577, 6584, 6585, 6586, 6588, 6590, 6591, 6592, 6593, 6594, 6595, 6597, 6598, 6599, 6603, 6604, 6609, 6614, 6615, 6616, 6620, 6623, 6624, 6626, 6628, 6629, 6631, 6633, 6634, 6636, 6637, 6638, 6639, 6640, 6644, 6646, 6647, 6648, 6649, 6650, 6652, 6657, 6659, 6663, 6664, 6666, 6667, 6669, 6673, 6674, 6675, 6677, 6682, 6683, 6684, 6686, 6687, 6688, 6689, 6691, 6692, 6693, 6694, 6696, 6697, 6698, 6699, 6700, 6701, 6702, 6703, 6704, 6705, 6707, 6708, 6709, 6710, 6711, 6713, 6714, 6716, 6717, 6718, 6719, 6720, 6722, 6724, 6725, 6726, 6727, 6728, 6730, 6732, 6733, 6734, 6735, 6736, 6737, 6738, 6739, 6748, 6750, 6752, 6757, 6761, 6762, 6763, 6764, 6765, 6766, 6769, 6770, 6771, 6773, 6775, 6776, 6777, 6778, 6779, 6780, 6781, 6782, 6784, 6785, 6786, 6787, 6788, 6789, 6790, 6791, 6793, 6794, 6796, 6797, 6798, 6799, 6800, 6801, 6802, 6803, 6804, 6805, 6806, 6807, 6808, 6811, 6812, 6813, 6815, 6816, 6817, 6818, 6820, 6821, 6822, 6823, 6824, 6825, 6826, 6827, 6828, 6829, 6830, 6834, 6835, 6836, 6837, 6839, 6841, 6843, 6844, 6845, 6846, 6847, 6848, 6849, 6851, 6852, 6853, 6854, 6855, 6858, 6859, 6860, 6861, 6862, 6864, 6865, 6867, 6868, 6869, 6870, 6871, 6872, 6873, 6875, 6877, 6878, 6879, 6880, 6881, 6883, 6884, 6885, 6887, 6888, 6890, 6891, 6892, 6893, 6894, 6895, 6896, 6898, 6899, 6900, 6901, 6906, 6909, 6910, 6913, 6914, 6917, 6919, 6924, 6929, 6931, 6933, 6934, 6936, 6937, 6938, 6940, 6943, 6944, 6945, 6946, 6948, 6949, 6950, 6951, 6953, 6954, 6956, 6957, 6958, 6959, 6961, 6964, 6966, 6968, 6969, 6970, 6971, 6973, 6974, 6975, 6976, 6977, 6983, 6984, 6985, 6986, 6989, 6992, 6994, 6995, 7001, 7004, 7006, 7009, 7010, 7012, 7015, 7017, 7019, 7022, 7025, 7026, 7027, 7028, 7029, 7030, 7031, 7032, 7033, 7034, 7035, 7036, 7037, 7039, 7040, 7041, 7042, 7043, 7045, 7046, 7047, 7048, 7049, 7051, 7053, 7055, 7056, 7060, 7061, 7066, 7067, 7068, 7069, 7071, 7072, 7073, 7074, 7075, 7076, 7077, 7078, 7079, 7080, 7081, 7087, 7088, 7089, 7091, 7092, 7093, 7095, 7096, 7097, 7098, 7099, 7100, 7101, 7102, 7104, 7105, 7106, 7108, 7109, 7110, 7111, 7112, 7114, 7115, 7118, 7119, 7120, 7121, 7122, 7123, 7126, 7127, 7128, 7129, 7130, 7132, 7133, 7134, 7135, 7136, 7137, 7138, 7139, 7140, 7141, 7142, 7143, 7144, 7145, 7146, 7147, 7148, 7149, 7150, 7151, 7152, 7153, 7154, 7155, 7158, 7159, 7160, 7161, 7162, 7163, 7165, 7166, 7167, 7168, 7169, 7171, 7173, 7174, 7175, 7176, 7177, 7178, 7179, 7180, 7181, 7182, 7187, 7188, 7194, 7195, 7197, 7198, 7201, 7203, 7204, 7205, 7208, 7209, 7210, 7211, 7212, 7214, 7216, 7217, 7224, 7227, 7229, 7230, 7232, 7233, 7234, 7236, 7237, 7238, 7239, 7240, 7242, 7244, 7246, 7247, 7248, 7249, 7251, 7255, 7257, 7259, 7261, 7263, 7267, 7272, 7273, 7276, 7278, 7279, 7280, 7282, 7283, 7285, 7286, 7291, 7294, 7295, 7298, 7299, 7300, 7301, 7302, 7303, 7304, 7305, 7306, 7307, 7308, 7310, 7312, 7313, 7314, 7315, 7316, 7317, 7318, 7319, 7320, 7321, 7323, 7324, 7325, 7326, 7327, 7328, 7329, 7330, 7331, 7332, 7334, 7339, 7340, 7341, 7342, 7345, 7346, 7347, 7348, 7350, 7352, 7354, 7355, 7359, 7361, 7362, 7363, 7364, 7365, 7366, 7369, 7370, 7372, 7373, 7374, 7375, 7376, 7377, 7378, 7379, 7382, 7383, 7384, 7385, 7389, 7390, 7391, 7392, 7394, 7396, 7397, 7398, 7399, 7401, 7403, 7407, 7410, 7411, 7412, 7414, 7415, 7420, 7426, 7427, 7429, 7430, 7432, 7436, 7439, 7440, 7443, 7444, 7445, 7446, 7449, 7451, 7452, 7453, 7454, 7455, 7456, 7457, 7464, 7466, 7469, 7473, 7474, 7477, 7478, 7479, 7481, 7485, 7488, 7493, 7494, 7495, 7496, 7500, 7503, 7505, 7507, 7508, 7509, 7515, 7516, 7517, 7518, 7519, 7520, 7521, 7523, 7525, 7527, 7528, 7529, 7532, 7533, 7542, 7545, 7548, 7549, 7550, 7551, 7555, 7557, 7558, 7559, 7560, 7561, 7563, 7564, 7565, 7567, 7569, 7570, 7572, 7573, 7574, 7575, 7577, 7578, 7579, 7581, 7584, 7586, 7588, 7590, 7591, 7592, 7593, 7594, 7595, 7598, 7599, 7600, 7602, 7603, 7605, 7607, 7609, 7610, 7611, 7613, 7616, 7617, 7622, 7623, 7624, 7627, 7629, 7630, 7631, 7632, 7634, 7636, 7638, 7639, 7640, 7641, 7642, 7643, 7644, 7645, 7647, 7648, 7650, 7651, 7653, 7654, 7655, 7657, 7658, 7659, 7660, 7662, 7663, 7664, 7665, 7666, 7667, 7668, 7669, 7671, 7672, 7673, 7675, 7676, 7677, 7678, 7679, 7681, 7682, 7683, 7684, 7685, 7686, 7688, 7691, 7693, 7700, 7704, 7705, 7706, 7707, 7708, 7709, 7710, 7711, 7712, 7713, 7720, 7725, 7726, 7728, 7729, 7730, 7731, 7733, 7738, 7740, 7743, 7748, 7749, 7751, 7757, 7758, 7759, 7761, 7762, 7764, 7769, 7770, 7772, 7773, 7776, 7779, 7780, 7781, 7785, 7789, 7790, 7791, 7793, 7794, 7795, 7796, 7797, 7798, 7799, 7803, 7804, 7806, 7807, 7808, 7809, 7810, 7812, 7813, 7814, 7815, 7816, 7817, 7818, 7819, 7820, 7822, 7823, 7824, 7825, 7826, 7827, 7828, 7829, 7830, 7831, 7832, 7833, 7835, 7836, 7837, 7838, 7839, 7840, 7841, 7842, 7843, 7844, 7845, 7847, 7849, 7850, 7851, 7852, 7853, 7854, 7856, 7857, 7858, 7861, 7862, 7863, 7864, 7865, 7866, 7867, 7868, 7869, 7870, 7871, 7877, 7880, 7881, 7882, 7883, 7884, 7885, 7887, 7889, 7890, 7892, 7893, 7894, 7895, 7897, 7898, 7899, 7900, 7901, 7902, 7903, 7905, 7906, 7907, 7908, 7909, 7910, 7914, 7915, 7916, 7917, 7919, 7921, 7924, 7926, 7928, 7929, 7930, 7931, 7932, 7934, 7935, 7936, 7938, 7939, 7940, 7941, 7943, 7944, 7945, 7946, 7947, 7948, 7949, 7950, 7952, 7954, 7956, 7957, 7958, 7959, 7960, 7961, 7962, 7963, 7964, 7965, 7966, 7967, 7968, 7969, 7970, 7971, 7972, 7973, 7974, 7975, 7976, 7977, 7978, 7979, 7980, 7981, 7982, 7983, 7984, 7985, 7987, 7988, 7989, 7990, 7994, 7997, 7999, 8006, 8007, 8008, 8009, 8011, 8012, 8013, 8014, 8017, 8018, 8020, 8021, 8022, 8023, 8024, 8025, 8026, 8027, 8029, 8030, 8031, 8032, 8033, 8034, 8035, 8036, 8038, 8039, 8042, 8045, 8046, 8048, 8049, 8050, 8051, 8052, 8053, 8054, 8056, 8057, 8058, 8060, 8063, 8066, 8067, 8071, 8072, 8077, 8078, 8079, 8080, 8085, 8088, 8090, 8092, 8093, 8094, 8095, 8098, 8100, 8102, 8103, 8105, 8106, 8107, 8108, 8110, 8111, 8112, 8113, 8114, 8115, 8116, 8117, 8118, 8119, 8120, 8122, 8123, 8124, 8125, 8126, 8127, 8128, 8129, 8130, 8131, 8132, 8134, 8135, 8137, 8138, 8139, 8140, 8141, 8143, 8144, 8145, 8148, 8149, 8150, 8151, 8153, 8154, 8155, 8156, 8157, 8158, 8159, 8160, 8161, 8162, 8163, 8164, 8165, 8166, 8168, 8170, 8171, 8172, 8173, 8174, 8176, 8177, 8178, 8179, 8180, 8182, 8184, 8185, 8186, 8187, 8188, 8189, 8190, 8191, 8192, 8193, 8194, 8195, 8196, 8197, 8198, 8199, 8200, 8201, 8202, 8203, 8204, 8205, 8206, 8207, 8208, 8209, 8211, 8212, 8213, 8214, 8215, 8216, 8217, 8218, 8219, 8220, 8222, 8223, 8224, 8226, 8227, 8228, 8229, 8230, 8231, 8232, 8234, 8235, 8236, 8237, 8238, 8239, 8240, 8241, 8242, 8243, 8244, 8245, 8246, 8247, 8248, 8249, 8250, 8252, 8253, 8254, 8255, 8256, 8257, 8258, 8259, 8260, 8261, 8262, 8264, 8265, 8266, 8267, 8268, 8269, 8270, 8271, 8272, 8273, 8274, 8275, 8276, 8277, 8279, 8280, 8281, 8282, 8284, 8285, 8286, 8287, 8288, 8289, 8290, 8293, 8294, 8295, 8297, 8298, 8299, 8300, 8301, 8302, 8303, 8304, 8305, 8306, 8308, 8309, 8310, 8311, 8312, 8313, 8314, 8315, 8316, 8317, 8318, 8319, 8320, 8321, 8322, 8323, 8324, 8325, 8327, 8328, 8331, 8333, 8334, 8335, 8337, 8338, 8339, 8340, 8341, 8342, 8344, 8345, 8346, 8347, 8348, 8350, 8351, 8352, 8353, 8354, 8355, 8356, 8357, 8358, 8359, 8360, 8361, 8362, 8363, 8364, 8365, 8366, 8367, 8368, 8369, 8370, 8371, 8372, 8373, 8374, 8375, 8376, 8377, 8379, 8381, 8382, 8383, 8384, 8386, 8387, 8388, 8389, 8390, 8391, 8394, 8395, 8396, 8398, 8399, 8400, 8401, 8402, 8405, 8406, 8409, 8410, 8411, 8413, 8414, 8415, 8416, 8418, 8425, 8431, 8432, 8434, 8438, 8440, 8442, 8446, 8447, 8449, 8451, 8454, 8456, 8460, 8462, 8463, 8464, 8469, 8470, 8471, 8473, 8474, 8476, 8479, 8483, 8485, 8486, 8490, 8499, 8501, 8502, 8503, 8504, 8505, 8506, 8507, 8510, 8512, 8513, 8515, 8519, 8521, 8522, 8523, 8524, 8525, 8528, 8529, 8531, 8532, 8533, 8534, 8537, 8538, 8539, 8540, 8541, 8543, 8545, 8546, 8547, 8548, 8552, 8555, 8557, 8558, 8559, 8564, 8565, 8566, 8567, 8568, 8571, 8573, 8574, 8575, 8577, 8578, 8581, 8583, 8584, 8586, 8587, 8589, 8590, 8592, 8595, 8597, 8598, 8599, 8600, 8601, 8604, 8609, 8612, 8615, 8619, 8620, 8621, 8622, 8623, 8624, 8626, 8627, 8628, 8629, 8634, 8637, 8638, 8639, 8640, 8642, 8646, 8653, 8654, 8657, 8662, 8663, 8664, 8665, 8668, 8669, 8671, 8674, 8675, 8676, 8677, 8678, 8680, 8681, 8682, 8683, 8684, 8686, 8687, 8688, 8689, 8691, 8692, 8693, 8694, 8695, 8698, 8699, 8700, 8701, 8702, 8703, 8704, 8705, 8706, 8712, 8714, 8715, 8716, 8717, 8719, 8720, 8726, 8732, 8733, 8735, 8736, 8737, 8740, 8744, 8747, 8748, 8751, 8753, 8754, 8755, 8756, 8760, 8762, 8765, 8766, 8770, 8772, 8775, 8781, 8786, 8787, 8789, 8791, 8793, 8794, 8797, 8799, 8800, 8801, 8803, 8806, 8808, 8809, 8810, 8811, 8814, 8816, 8819, 8820, 8822, 8824, 8825, 8826, 8827, 8829, 8833, 8836, 8837, 8840, 8841, 8842, 8843, 8844, 8845, 8847, 8850, 8852, 8853, 8854, 8855, 8856, 8857, 8861, 8863, 8864, 8865, 8866, 8868, 8872, 8874, 8875, 8880, 8881, 8884, 8885, 8887, 8888, 8889, 8894, 8895, 8896, 8897, 8898, 8901, 8903, 8907, 8908, 8910, 8911, 8912, 8913, 8915, 8917, 8918, 8919, 8920, 8921, 8922, 8923, 8924, 8926, 8927, 8928, 8929, 8932, 8933, 8934, 8935, 8937, 8938, 8941, 8943, 8945, 8947, 8948, 8949, 8954, 8957, 8958, 8959, 8961, 8962, 8967, 8970, 8972, 8973, 8974, 8975, 8976, 8978, 8979, 8980, 8981, 8982, 8983, 8985, 8986, 8987, 8988, 8989, 8990, 8991, 8992, 8996, 8997, 8999, 9000, 9005, 9007, 9008, 9010, 9011, 9012, 9013, 9014, 9015, 9017, 9020, 9022, 9023, 9024, 9025, 9026, 9027, 9028, 9029, 9030, 9031, 9032, 9037, 9038, 9039, 9041, 9044, 9048, 9051, 9052, 9053, 9056, 9057, 9058, 9059, 9060, 9062, 9063, 9064, 9065, 9066, 9068, 9069, 9070, 9071, 9072, 9073, 9074, 9076, 9077, 9078, 9079, 9080, 9081, 9082, 9083, 9085, 9086, 9087, 9088, 9089, 9090, 9091, 9092, 9093, 9094, 9095, 9096, 9097, 9098, 9099, 9102, 9103, 9105, 9106, 9107, 9108, 9109, 9110, 9111, 9113, 9114, 9121, 9124, 9126, 9127, 9128, 9130, 9131, 9132, 9133, 9134, 9135, 9136, 9137, 9138, 9139, 9140, 9141, 9142, 9143, 9144, 9147, 9148, 9150, 9152, 9153, 9156, 9159, 9162, 9163, 9164, 9165, 9166, 9167, 9169, 9171, 9172, 9173, 9174, 9176, 9179, 9180, 9181, 9183, 9184, 9187, 9188, 9189, 9190, 9191, 9192, 9193, 9194, 9195, 9196, 9197, 9200, 9201, 9202, 9203, 9206, 9209, 9210, 9211, 9212, 9213, 9214, 9216, 9217, 9218, 9219, 9220, 9222, 9225, 9227, 9228, 9229, 9230, 9231, 9234, 9235, 9236, 9237, 9239, 9241, 9243, 9245, 9246, 9248, 9249, 9250, 9253, 9257, 9258, 9259, 9260, 9261, 9263, 9265, 9266, 9268, 9269, 9270, 9272, 9274, 9275, 9277, 9278, 9279, 9281, 9287, 9290, 9291, 9292, 9293, 9296, 9304, 9307, 9308, 9310, 9311, 9316, 9317, 9318, 9319, 9320, 9322, 9323, 9324, 9325, 9326, 9328, 9329, 9330, 9334, 9335, 9336, 9337, 9338, 9343, 9345, 9351, 9353, 9356, 9359, 9360, 9361, 9362, 9365, 9366, 9367, 9368, 9369, 9371, 9372, 9373, 9376, 9377, 9378, 9379, 9380, 9381, 9382, 9383, 9384, 9385, 9386, 9387, 9389, 9390, 9392, 9393, 9394, 9395, 9396, 9398, 9399, 9400, 9401, 9402, 9405, 9406, 9408, 9409, 9410, 9411, 9412, 9413, 9414, 9415, 9416, 9417, 9418, 9419, 9421, 9422, 9423, 9425, 9426, 9427, 9428, 9429, 9430, 9431, 9432, 9433, 9434, 9435, 9436, 9438, 9439, 9440, 9441, 9442, 9443, 9444, 9445, 9446, 9447, 9448, 9449, 9450, 9451, 9453, 9455, 9456, 9458, 9459, 9461, 9464, 9465, 9466, 9467, 9469, 9470, 9471, 9472, 9474, 9475, 9476, 9477, 9478, 9479, 9481, 9482, 9483, 9484, 9486, 9487, 9489, 9490, 9491, 9493, 9495, 9497, 9498, 9499, 9500, 9501, 9502, 9503, 9504, 9505, 9506, 9507, 9508, 9509, 9510, 9511, 9512, 9515, 9516, 9517, 9518, 9519, 9520, 9521, 9522, 9523, 9524, 9526, 9527, 9528, 9530, 9531, 9541, 9542, 9543, 9544, 9545, 9546, 9547, 9548, 9550, 9556, 9557, 9558, 9564, 9566, 9568, 9572, 9574, 9575, 9576, 9577, 9578, 9579, 9580, 9581, 9582, 9583, 9584, 9585, 9587, 9588, 9589, 9590, 9591, 9592, 9593, 9594, 9595, 9596, 9599, 9601, 9602, 9603, 9604, 9606, 9609, 9611, 9612, 9613, 9614, 9616, 9617, 9618, 9619, 9620, 9623, 9624, 9625, 9627, 9629, 9630, 9631, 9633, 9634, 9636, 9637, 9638, 9639, 9640, 9641, 9642, 9643, 9645, 9648, 9649, 9653, 9654, 9658, 9659, 9661, 9662, 9663, 9664, 9667, 9669, 9675, 9680, 9689, 9690, 9699, 9700, 9701, 9704, 9706, 9707, 9708, 9711, 9712, 9713, 9715, 9716, 9718, 9722, 9724, 9725, 9729, 9734, 9735, 9741, 9742, 9744, 9746, 9747, 9748, 9749, 9750, 9751, 9752, 9755, 9756, 9757, 9758, 9759, 9760, 9761, 9762, 9763, 9764, 9765, 9766, 9767, 9769, 9771, 9772, 9773, 9776, 9777, 9779, 9780, 9781, 9782, 9783, 9784, 9785, 9786, 9787, 9788, 9789, 9791, 9792, 9793, 9794, 9795, 9796, 9798, 9799, 9800, 9801, 9802, 9803, 9804, 9806, 9807, 9808, 9809, 9810, 9812, 9813, 9814, 9815, 9816, 9819, 9820, 9821, 9829, 9830, 9831, 9832, 9833, 9836, 9837, 9841, 9842, 9844, 9845, 9847, 9848, 9849, 9850, 9851, 9855, 9856, 9857, 9858, 9862, 9867, 9868, 9872, 9873, 9874, 9876, 9878, 9879, 9881, 9882, 9883, 9884, 9885, 9887, 9889, 9890, 9892, 9893, 9896, 9898, 9901, 9903, 9908, 9909, 9910, 9912, 9913, 9914, 9915, 9917, 9922, 9926, 9929, 9932, 9933, 9936, 9937, 9939, 9940, 9941, 9943, 9944, 9945, 9946, 9947, 9948, 9949, 9950, 9951, 9952, 9956, 9957, 9958, 9960, 9961, 9962, 9963, 9964, 9965, 9966, 9968, 9969, 9974, 9975, 9976, 9977, 9979, 9980, 9982, 9983, 9984, 9985, 9986, 9987, 9988, 9989, 9990, 9991, 9992, 9993, 9996, 9997, 10001, 10002, 10003, 10004, 10006, 10007, 10008, 10009, 10010, 10011, 10013, 10014, 10017, 10018, 10019, 10021, 10024, 10027, 10028, 10029, 10030, 10031, 10032, 10033, 10035, 10036, 10044, 10046, 10047, 10048, 10049, 10052, 10053, 10054, 10056, 10057, 10058, 10059, 10060, 10061, 10062, 10063, 10064, 10066, 10067, 10068, 10069, 10070, 10071, 10072, 10073, 10074, 10076, 10077, 10078, 10079, 10080, 10081, 10082, 10083, 10084, 10085, 10086, 10087, 10089, 10090, 10091, 10093, 10095, 10097, 10098, 10099, 10106, 10107, 10108, 10109, 10111, 10112, 10113, 10114, 10116, 10118, 10119, 10121, 10122, 10124, 10125, 10126, 10128, 10129, 10130, 10132, 10133, 10134, 10135, 10136, 10137, 10139, 10140, 10141, 10142, 10143, 10144, 10145, 10149, 10155, 10156, 10159, 10161, 10167, 10172, 10173, 10174, 10175, 10176, 10179, 10180, 10181, 10187, 10188, 10190, 10191, 10193, 10199, 10200, 10203, 10205, 10207, 10211, 10215, 10216, 10220, 10222, 10226, 10227, 10228, 10232, 10236, 10238, 10240, 10241, 10242, 10243, 10244, 10245, 10246, 10248, 10249, 10250, 10251, 10252, 10253, 10254, 10255, 10256, 10257, 10258, 10259, 10260]\n"
     ]
    }
   ],
   "source": [
    "to_remove = []\n",
    "for index, review in enumerate(df_json[\"helpful\"]):\n",
    "    if review[1] == 0: to_remove.append(index)\n",
    "print(to_remove)"
   ]
  },
  {
   "cell_type": "code",
   "execution_count": 231,
   "id": "07b7ac38",
   "metadata": {},
   "outputs": [],
   "source": [
    "df_clean = df_json.drop(to_remove)"
   ]
  },
  {
   "cell_type": "code",
   "execution_count": 232,
   "id": "2c4871f3",
   "metadata": {},
   "outputs": [
    {
     "data": {
      "text/plain": [
       "3465"
      ]
     },
     "execution_count": 232,
     "metadata": {},
     "output_type": "execute_result"
    }
   ],
   "source": [
    "len(df_clean) # Seems controversial to the assignment"
   ]
  },
  {
   "cell_type": "markdown",
   "id": "1e78cd30",
   "metadata": {},
   "source": [
    "# Train Test Split"
   ]
  },
  {
   "cell_type": "code",
   "execution_count": 233,
   "id": "fca607e4",
   "metadata": {},
   "outputs": [],
   "source": [
    "from sklearn.model_selection import train_test_split"
   ]
  },
  {
   "cell_type": "code",
   "execution_count": 234,
   "id": "ca9936fe",
   "metadata": {},
   "outputs": [],
   "source": [
    "X_train, X_test, y_train, y_test = train_test_split(X, y, random_state=432423, shuffle=True)"
   ]
  },
  {
   "cell_type": "markdown",
   "id": "179e88ae",
   "metadata": {},
   "source": [
    "1. How many samples: 10261\n",
    "1. labels: 5 (1, 2, 3, 4, 5)\n",
    "1. training/test samples: Need to decide\n",
    "1. quirks(Repeated Behaviour / Unique Behaviour):\n",
    "1. issues:\n",
    "1. inconsistencies: Data is unbalanced\n",
    "1. Label Distribution: Already done above"
   ]
  },
  {
   "cell_type": "markdown",
   "id": "abed9ac6",
   "metadata": {},
   "source": [
    "# Vocabulary Creation"
   ]
  },
  {
   "cell_type": "code",
   "execution_count": 235,
   "id": "b146b3c1",
   "metadata": {},
   "outputs": [],
   "source": [
    "from nltk.tokenize import word_tokenize\n",
    "from nltk.corpus import stopwords\n",
    "from collections import defaultdict\n",
    "import nltk"
   ]
  },
  {
   "cell_type": "code",
   "execution_count": 236,
   "id": "55cade02",
   "metadata": {},
   "outputs": [],
   "source": [
    "vocabulary = defaultdict(lambda : 0)\n",
    "count_of_voc_out = defaultdict(lambda : 0)"
   ]
  },
  {
   "cell_type": "code",
   "execution_count": 237,
   "id": "73c5faef",
   "metadata": {},
   "outputs": [],
   "source": [
    "stop_words = set(stopwords.words(\"english\"))"
   ]
  },
  {
   "cell_type": "code",
   "execution_count": 238,
   "id": "c97c4dbf",
   "metadata": {},
   "outputs": [],
   "source": [
    "pattern = r\"\"\"(?x)                   # set flag to allow verbose regexps\n",
    "              (?:[A-Z]\\.)+           # abbreviations, e.g. U.S.A.\n",
    "              |\\d+(?:\\.\\d+)?%?       # numbers, incl. currency and percentages\n",
    "              |\\w+(?:[-']\\w+)*       # words w/ optional internal hyphens/apostrophe\n",
    "              |(?:[+/\\-@&*])         # special characters with meanings\n",
    "            \"\"\""
   ]
  },
  {
   "cell_type": "code",
   "execution_count": 239,
   "id": "6b00269d",
   "metadata": {},
   "outputs": [],
   "source": [
    "tokenizer = nltk.tokenize.regexp.RegexpTokenizer(pattern)"
   ]
  },
  {
   "cell_type": "code",
   "execution_count": 240,
   "id": "9dd32115",
   "metadata": {},
   "outputs": [],
   "source": [
    "for review, output in zip(X_train.reviewText, y_train):\n",
    "    review = review.lower()\n",
    "    tokens = tokenizer.tokenize(review)\n",
    "    for token in tokens:\n",
    "        if token not in stop_words:\n",
    "            vocabulary[token] += 1\n",
    "            count_of_voc_out[(token, output)] += 1"
   ]
  },
  {
   "cell_type": "code",
   "execution_count": 241,
   "id": "2a457b06",
   "metadata": {},
   "outputs": [
    {
     "name": "stdout",
     "output_type": "stream",
     "text": [
      "806\n"
     ]
    }
   ],
   "source": [
    "print(vocabulary[\"got\"])"
   ]
  },
  {
   "cell_type": "code",
   "execution_count": 242,
   "id": "4d6dd2b5",
   "metadata": {},
   "outputs": [
    {
     "name": "stdout",
     "output_type": "stream",
     "text": [
      "167\n"
     ]
    }
   ],
   "source": [
    "print(count_of_voc_out[(\"got\", 4)])"
   ]
  },
  {
   "cell_type": "code",
   "execution_count": 243,
   "id": "a90cca55",
   "metadata": {},
   "outputs": [
    {
     "data": {
      "text/plain": [
       "(19764, 36017)"
      ]
     },
     "execution_count": 243,
     "metadata": {},
     "output_type": "execute_result"
    }
   ],
   "source": [
    "len(vocabulary), len(count_of_voc_out)"
   ]
  },
  {
   "cell_type": "markdown",
   "id": "dfefac8a",
   "metadata": {},
   "source": [
    "# Sample Testing"
   ]
  },
  {
   "cell_type": "code",
   "execution_count": 244,
   "id": "53d2d2dc",
   "metadata": {},
   "outputs": [],
   "source": [
    "def analyze_review(split_inputs, vocabulary, count_of_voc_out, overall_vc, total_len):\n",
    "    analysis_log = {}\n",
    "    \n",
    "#     analysis = {}\n",
    "\n",
    "    max_probability_key, max_probability_value = 0, 0\n",
    "    for i in overall_vc.index:\n",
    "        analysis_log[i] = np.log(overall_vc[i] / total_len)\n",
    "        \n",
    "#         print(i, np.exp(analysis_log[i]))\n",
    "#         analysis[i] = (overall_vc[i] / total_len)\n",
    "\n",
    "        for word in split_inputs:\n",
    "            analysis_log[i] += np.log(count_of_voc_out[(word, i)] / overall_vc[i])\n",
    "            \n",
    "#             print(i, word, np.exp(np.log(count_of_voc_out[(word, i)] / overall_vc[i])))\n",
    "#             analysis[i] *= (count_of_voc_out[(word, i)] / overall_vc[i])\n",
    "\n",
    "        analysis_log[i] = np.exp(analysis_log[i])\n",
    "        if analysis_log[i] > max_probability_value: max_probability_key = i; max_probability_value = analysis_log[i]\n",
    "            \n",
    "#     print(analysis, analysis_log)\n",
    "#     print(max(analysis_log.values()))\n",
    "\n",
    "    return max_probability_key, max_probability_value"
   ]
  },
  {
   "cell_type": "code",
   "execution_count": 245,
   "id": "597a7f01",
   "metadata": {},
   "outputs": [],
   "source": [
    "sample_input = \"Average Product\""
   ]
  },
  {
   "cell_type": "code",
   "execution_count": 246,
   "id": "9746451d",
   "metadata": {},
   "outputs": [],
   "source": [
    "sample_input = sample_input.lower()"
   ]
  },
  {
   "cell_type": "code",
   "execution_count": 247,
   "id": "f3ea848a",
   "metadata": {},
   "outputs": [],
   "source": [
    "split_inputs = tokenizer.tokenize(sample_input)"
   ]
  },
  {
   "cell_type": "code",
   "execution_count": 248,
   "id": "10ae747d",
   "metadata": {},
   "outputs": [
    {
     "data": {
      "text/plain": [
       "['average', 'product']"
      ]
     },
     "execution_count": 248,
     "metadata": {},
     "output_type": "execute_result"
    }
   ],
   "source": [
    "split_inputs"
   ]
  },
  {
   "cell_type": "code",
   "execution_count": 249,
   "id": "dabe4322",
   "metadata": {},
   "outputs": [
    {
     "name": "stderr",
     "output_type": "stream",
     "text": [
      "C:\\Users\\swast\\AppData\\Local\\Temp\\ipykernel_24804\\2778404012.py:10: RuntimeWarning: divide by zero encountered in log\n",
      "  analysis_log[i] += np.log(count_of_voc_out[(word, i)] / overall_vc[i])\n"
     ]
    }
   ],
   "source": [
    "review_score, review_probability = analyze_review(split_inputs, vocabulary, count_of_voc_out, overall_vc, total_len)"
   ]
  },
  {
   "cell_type": "code",
   "execution_count": 253,
   "id": "326477f1",
   "metadata": {},
   "outputs": [
    {
     "name": "stdout",
     "output_type": "stream",
     "text": [
      "Review Score is 5: 0.0001622400237064279\n"
     ]
    }
   ],
   "source": [
    "print(f\"Review Score is {review_score}: {review_probability}\")"
   ]
  },
  {
   "cell_type": "code",
   "execution_count": null,
   "id": "6d9601fd",
   "metadata": {},
   "outputs": [],
   "source": []
  },
  {
   "cell_type": "code",
   "execution_count": null,
   "id": "767cca46",
   "metadata": {},
   "outputs": [],
   "source": []
  },
  {
   "cell_type": "code",
   "execution_count": null,
   "id": "6285ec4d",
   "metadata": {},
   "outputs": [],
   "source": []
  },
  {
   "cell_type": "code",
   "execution_count": null,
   "id": "509c29ba",
   "metadata": {},
   "outputs": [],
   "source": []
  },
  {
   "cell_type": "code",
   "execution_count": null,
   "id": "295aaf8a",
   "metadata": {},
   "outputs": [],
   "source": []
  }
 ],
 "metadata": {
  "kernelspec": {
   "display_name": "Python 3 (ipykernel)",
   "language": "python",
   "name": "python3"
  },
  "language_info": {
   "codemirror_mode": {
    "name": "ipython",
    "version": 3
   },
   "file_extension": ".py",
   "mimetype": "text/x-python",
   "name": "python",
   "nbconvert_exporter": "python",
   "pygments_lexer": "ipython3",
   "version": "3.11.4"
  }
 },
 "nbformat": 4,
 "nbformat_minor": 5
}
